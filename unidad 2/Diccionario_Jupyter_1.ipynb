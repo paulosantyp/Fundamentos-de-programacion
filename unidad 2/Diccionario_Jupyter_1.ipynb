{
  "metadata": {
    "kernelspec": {
      "name": "xpython",
      "display_name": "Python 3.13 (XPython)",
      "language": "python"
    },
    "language_info": {
      "file_extension": ".py",
      "mimetype": "text/x-python",
      "name": "python",
      "version": "3.13.1"
    }
  },
  "nbformat_minor": 5,
  "nbformat": 4,
  "cells": [
    {
      "id": "85a800da-72d6-47cd-8899-52f66a519312",
      "cell_type": "code",
      "source": "edades = {\n    \"Brayan\": 25,\n    \"Luis\": 30,\n    \"José\": 22,\n}\nprint(\"Edad de Luis:\", edades[\"Luis\"])    \nedades[\"Pedro\"] = 28\nprint(\"\\nDespués de añadir a Pedro:\")\nprint(edades)                               \n\nedades[\"Luis\"] = 26\nprint(\"\\nDespués de actualizar la edad de Luis:\")\nprint(edades)                              \n\ndel edades[\"José\"]\nprint(\"\\nDespués de eliminar a José:\")\nprint(edades)                               \n\nprint(\"\\nRecorriendo el diccionario:\")\nfor nombre, edad in edades.items():         \n     print(f\"{nombre} tiene {edad} años\")",
      "metadata": {
        "trusted": true
      },
      "outputs": [
        {
          "name": "stdout",
          "output_type": "stream",
          "text": "Edad de Luis: 30\n\nDespués de añadir a Pedro:\n{'Brayan': 25, 'Luis': 30, 'José': 22, 'Pedro': 28}\n\nDespués de actualizar la edad de Luis:\n{'Brayan': 25, 'Luis': 26, 'José': 22, 'Pedro': 28}\n\nDespués de eliminar a José:\n{'Brayan': 25, 'Luis': 26, 'Pedro': 28}\n\nRecorriendo el diccionario:\nBrayan tiene 25 años\nLuis tiene 26 años\nPedro tiene 28 años\n"
        }
      ],
      "execution_count": 6
    },
    {
      "id": "27ca82e2-a0b4-417c-b9af-878ba8f43f49",
      "cell_type": "code",
      "source": "",
      "metadata": {
        "trusted": true
      },
      "outputs": [],
      "execution_count": null
    }
  ]
}